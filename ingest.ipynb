{
 "cells": [
  {
   "cell_type": "code",
   "execution_count": 98,
   "metadata": {
    "collapsed": true
   },
   "outputs": [],
   "source": [
    "import json\n",
    "import random\n",
    "import uuid\n",
    "\n",
    "!pip install -q psycopg2\n",
    "import psycopg2"
   ]
  },
  {
   "cell_type": "code",
   "execution_count": 99,
   "metadata": {},
   "outputs": [],
   "source": [
    "connection.close()\n",
    "cursor.close()"
   ]
  },
  {
   "cell_type": "code",
   "execution_count": 100,
   "metadata": {
    "collapsed": true
   },
   "outputs": [],
   "source": [
    "# Connect to the postgres server linked to the container this notebook is running in\n",
    "connection = psycopg2.connect(\"host=postgres dbname=wisdom user=postgres\")"
   ]
  },
  {
   "cell_type": "code",
   "execution_count": 101,
   "metadata": {
    "collapsed": true
   },
   "outputs": [],
   "source": [
    "# Create the patients, reports and snps tables\n",
    "with connection.cursor() as cursor:\n",
    "    cursor.execute(\"\"\"\n",
    "        drop table if exists patients;\n",
    "        create table patients (id varchar(64) not null primary key, age int not null, sign varchar(32) not null);\n",
    "        drop table if exists reports;\n",
    "        create table reports (id varchar(64) not null primary key, report jsonb not null);\n",
    "        drop table if exists snps;\n",
    "        create table snps (id varchar(64) not null primary key, snps jsonb not null);\n",
    "        \"\"\")\n",
    "    connection.commit()"
   ]
  },
  {
   "cell_type": "code",
   "execution_count": 102,
   "metadata": {
    "collapsed": true
   },
   "outputs": [],
   "source": [
    "# Load the sample report and snps as a template\n",
    "with open(\"samples/sample_color_gene_report.json\") as f:\n",
    "    report_template = json.loads(f.read())[\"data\"]\n",
    "with open(\"samples/sample_color_snp_report.json\") as f:\n",
    "    snps_template = json.loads(f.read())[\"data\"]"
   ]
  },
  {
   "cell_type": "code",
   "execution_count": 103,
   "metadata": {},
   "outputs": [],
   "source": [
    "# Create a bunch of synthetic patient, report, and snps and add them to the database\n",
    "for i in range(250):\n",
    "    with connection.cursor() as cursor:\n",
    "        patient_id = str(uuid.uuid4())\n",
    "        sign = ['Capricorn', 'Sagittarius', 'Scorpio', 'Libra',\n",
    "                'Virgo', 'Leo', 'Cancer', 'Gemini', \n",
    "                'Taurus', 'Aries', 'Pisces', 'Aquarius', 'Capricorn'][random.randint(0,12)]\n",
    "        age = random.randint(18,90)\n",
    "        cursor.execute(\"\"\"insert into patients values ('{}', {}, '{}')\"\"\".format(patient_id, age, sign))\n",
    "\n",
    "        # Copy the template report and pick a random subset of 8 variants\n",
    "        report = report_template.copy()\n",
    "        report[\"patient_id\"] = patient_id\n",
    "        report[\"variants\"] = random.sample(report_template[\"variants\"], 8)\n",
    "\n",
    "        cursor.execute(\"\"\"insert into reports values ('{}', '{}')\"\"\".format(str(uuid.uuid4()), json.dumps(report)))\n",
    "\n",
    "        # snps all the same as we expect all for each record, now to mix it up?\n",
    "        snps = snps_template.copy()\n",
    "        snps[\"patient_id\"] = patient_id\n",
    "        cursor.execute(\"\"\"insert into snps values ('{}', '{}')\"\"\".format(str(uuid.uuid4()), json.dumps(snps)))\n",
    "\n",
    "        connection.commit()"
   ]
  }
 ],
 "metadata": {
  "kernelspec": {
   "display_name": "Python 3",
   "language": "python",
   "name": "python3"
  },
  "language_info": {
   "codemirror_mode": {
    "name": "ipython",
    "version": 3
   },
   "file_extension": ".py",
   "mimetype": "text/x-python",
   "name": "python",
   "nbconvert_exporter": "python",
   "pygments_lexer": "ipython3",
   "version": "3.5.2"
  }
 },
 "nbformat": 4,
 "nbformat_minor": 2
}
