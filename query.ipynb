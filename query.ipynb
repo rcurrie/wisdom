{
 "cells": [
  {
   "cell_type": "markdown",
   "metadata": {},
   "source": [
    "### Sample SQL Queries\n",
    "\n",
    "Count the number of patients per sign:\n",
    "```\n",
    "SELECT patients.sign, COUNT(id) FROM patients GROUP BY patients.sign\n",
    "\n",
    "```\n",
    "Select the first variants gene for each patient\n",
    "```\n",
    "select report->'variants'->1 from reports\n",
    "```\n",
    "\n",
    "Select all Libras between 21 and 40 with BRCA1 and PTEN\n",
    "```\n",
    "select patients.id, report->'variants' \n",
    "from patients\n",
    "left join reports on (patients.id = reports.patient_id)\n",
    "where patients.sign='Libra' and patients.age >= 21 and patients.age <= 40\n",
    "and report @> '{ \"variants\": [{ \"gene\": \"BRCA1\" }] }' and report @> '{ \"variants\": [{ \"gene\": \"PTEN\" }] }'\n",
    "\n",
    "```"
   ]
  },
  {
   "cell_type": "code",
   "execution_count": 48,
   "metadata": {
    "collapsed": true
   },
   "outputs": [],
   "source": [
    "import json\n",
    "from contextlib import closing\n",
    "import psycopg2\n",
    "import psycopg2.extras"
   ]
  },
  {
   "cell_type": "code",
   "execution_count": 20,
   "metadata": {
    "collapsed": true
   },
   "outputs": [],
   "source": [
    "# Connect to the postgres server linked to the container this notebook is running in\n",
    "connection = psycopg2.connect(\"host=postgres dbname=wisdom user=postgres\")"
   ]
  },
  {
   "cell_type": "code",
   "execution_count": 11,
   "metadata": {
    "collapsed": true
   },
   "outputs": [],
   "source": [
    "cursor.close()"
   ]
  },
  {
   "cell_type": "code",
   "execution_count": 19,
   "metadata": {
    "collapsed": true
   },
   "outputs": [],
   "source": [
    "connection.close()"
   ]
  },
  {
   "cell_type": "code",
   "execution_count": 15,
   "metadata": {},
   "outputs": [
    {
     "name": "stdout",
     "output_type": "stream",
     "text": [
      "Found variants for 250 patients\n",
      "['MSH2', 'ATM', 'ATM', 'MSH6', 'BRCA2', 'PALB2', 'MLH1', 'PALB2', 'BRCA1', 'ATM', 'ATM', 'MLH1', 'ATM', 'ATM', 'ATM', 'BRCA1', 'ATM', 'ATM', 'BRIP1', 'BRIP1', 'MSH6', 'ATM', 'PMS2', 'ATM', 'BRCA2', 'ATM', 'ATM', 'ATM', 'MSH2', 'PALB2', 'PALB2', 'BRCA1', 'PTEN', 'BRCA1', 'PALB2', 'BRCA1', 'CDH1', 'ATM', 'MSH6', 'BRCA1', 'ATM', 'ATM', 'BRIP1', 'BRCA1', 'ATM', 'BRCA2', 'PTEN', 'BRCA1', 'BRCA2', 'ATM', 'ATM', 'BRCA1', 'ATM', 'ATM', 'BRCA1', 'CDH1', 'BRCA1', 'BRIP1', 'BRCA1', 'ATM', 'BRCA1', 'ATM', 'BRCA1', 'PALB2', 'BRIP1', 'MSH2', 'BRCA2', 'BRCA1', 'PTEN', 'ATM', 'MSH6', 'BRCA1', 'BRCA1', 'ATM', 'ATM', 'PALB2', 'BRIP1', 'MSH2', 'PALB2', 'BRCA2', 'ATM', 'CDH1', 'PALB2', 'MLH1', 'ATM', 'BRCA2', 'ATM', 'ATM', 'PTEN', 'ATM', 'CDH1', 'BRCA2', 'ATM', 'BRCA1', 'ATM', 'MLH1', 'PTEN', 'MSH2', 'BRCA2', 'BRCA2', 'BRCA1', 'PALB2', 'BRCA2', 'MLH1', 'MSH6', 'ATM', 'BRCA1', 'BRCA1', 'MSH2', 'PMS2', 'MLH1', 'BRCA1', 'BRCA2', 'ATM', 'MSH6', 'BRCA1', 'PTEN', 'ATM', 'BRCA1', 'MSH6', 'PALB2', 'CDH1', 'BRCA2', 'ATM', 'BRCA1', 'ATM', 'MSH6', 'ATM', 'PMS2', 'CDH1', 'ATM', 'BRCA1', 'BRCA1', 'ATM', 'BRCA1', 'ATM', 'ATM', 'BRCA2', 'BRIP1', 'MLH1', 'ATM', 'BRCA1', 'ATM', 'PALB2', 'BRCA1', 'MLH1', 'MSH6', 'BRCA1', 'PTEN', 'PMS2', 'MSH6', 'BRIP1', 'MLH1', 'ATM', 'MSH6', 'PALB2', 'PALB2', 'BRIP1', 'BRCA1', 'ATM', 'ATM', 'BRCA2', 'ATM', 'PALB2', 'BRCA1', 'ATM', 'ATM', 'ATM', 'BRCA2', 'PALB2', 'BRCA2', 'BRCA1', 'MLH1', 'MSH6', 'PTEN', 'ATM', 'MLH1', 'BRCA1', 'ATM', 'BRCA1', 'ATM', 'BRCA1', 'CDH1', 'ATM', 'BRCA1', 'BRCA1', 'PTEN', 'MLH1', 'BRCA1', 'ATM', 'MSH6', 'MLH1', 'ATM', 'MSH2', 'ATM', 'BRCA1', 'MLH1', 'BRCA1', 'ATM', 'PALB2', 'MSH6', 'ATM', 'MSH6', 'ATM', 'PALB2', 'ATM', 'PTEN', 'BRCA2', 'PTEN', 'MSH2', 'ATM', 'BRCA1', 'BRCA1', 'PMS2', 'MLH1', 'ATM', 'BRCA1', 'ATM', 'BRIP1', 'BRCA1', 'CDH1', 'ATM', 'BRCA2', 'MSH6', 'ATM', 'CDH1', 'ATM', 'PALB2', 'PMS2', 'ATM', 'BRCA1', 'ATM', 'BRCA1', 'BRCA1', 'ATM', 'PMS2', 'BRIP1', 'PTEN', 'ATM', 'ATM', 'ATM', 'MSH6', 'BRCA1', 'CDH1', 'BRCA2', 'BRIP1', 'PMS2', 'BRCA1', 'MSH2', 'PALB2']\n"
     ]
    }
   ],
   "source": [
    "# Query the first variant from every report and print its gene\n",
    "with closing(connection.cursor()) as cursor:\n",
    "    cursor.execute(\"select report->'variants'->1 from reports\")\n",
    "    variants = cursor.fetchall()\n",
    "    print(\"Found variants for\", len(variants), \"patients\")\n",
    "    print([v[0][\"gene\"] for v in variants])"
   ]
  },
  {
   "cell_type": "code",
   "execution_count": 82,
   "metadata": {},
   "outputs": [
    {
     "name": "stdout",
     "output_type": "stream",
     "text": [
      "Found 11 Libra's between 21 and 40\n",
      "Those with both BRCA1 and PTEN:\n",
      "5da839ef-2c57-4457-a043-aa3b877021d0 ['PALB2', 'ATM', 'BRCA1', 'BRCA1', 'PMS2', 'BRCA2', 'PTEN', 'ATM']\n",
      "82a8a1b6-1b90-4eb7-af7d-e3304c8c2339 ['MLH1', 'PTEN', 'ATM', 'CDH1', 'BRCA2', 'BRCA1', 'PALB2', 'ATM']\n",
      "875cd09a-2e0e-4ee6-a70c-efbef489e77a ['BRIP1', 'BRCA2', 'PTEN', 'CDH1', 'PALB2', 'ATM', 'MSH2', 'BRCA1']\n",
      "e7a547de-c199-44c8-8b25-31ad0102f31c ['BRCA1', 'MLH1', 'PTEN', 'BRCA1', 'BRCA2', 'ATM', 'BRIP1', 'ATM']\n",
      "d2a0f816-127d-48af-9d52-2be7dc480ae7 ['PTEN', 'BRCA1', 'MSH6', 'PMS2', 'BRCA1', 'ATM', 'PALB2', 'ATM']\n",
      "6e9855f8-a0b3-4ff5-9761-758f108fd9ec ['ATM', 'BRCA1', 'BRIP1', 'PALB2', 'MLH1', 'PALB2', 'MSH2', 'PTEN']\n"
     ]
    }
   ],
   "source": [
    "# Find all Libras between 21 and 40 with BRCA1 and PTEN\n",
    "with closing(psycopg2.connect(\"host=postgres dbname=wisdom  user=postgres\")) as connection, \\\n",
    "    closing(connection.cursor(cursor_factory=psycopg2.extras.DictCursor)) as cursor:\n",
    "    cursor.execute(\"select * from patients where sign='Libra' and age >= 21 and age <= 40\")\n",
    "    patients = cursor.fetchall()\n",
    "    print(\"Found\", len(patients), \"Libra's between 21 and 40\")\n",
    "    \n",
    "    print(\"Those with both BRCA1 and PTEN:\")\n",
    "    for patient in patients:\n",
    "        cursor.execute(\"select report->'variants' from reports where reports.patient_id='{}'\".format(patient[\"id\"]))\n",
    "        variants = cursor.fetchall()\n",
    "        genes = [v[\"gene\"] for v in variants[0][0]]\n",
    "        if 'BRCA1' in genes and 'PTEN' in genes:\n",
    "            print(patient[\"id\"], genes)"
   ]
  }
 ],
 "metadata": {
  "kernelspec": {
   "display_name": "Python 3",
   "language": "python",
   "name": "python3"
  },
  "language_info": {
   "codemirror_mode": {
    "name": "ipython",
    "version": 3
   },
   "file_extension": ".py",
   "mimetype": "text/x-python",
   "name": "python",
   "nbconvert_exporter": "python",
   "pygments_lexer": "ipython3",
   "version": "3.5.2"
  }
 },
 "nbformat": 4,
 "nbformat_minor": 2
}
