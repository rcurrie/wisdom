{
 "cells": [
  {
   "cell_type": "code",
   "execution_count": 1,
   "metadata": {
    "collapsed": true
   },
   "outputs": [],
   "source": [
    "import json\n",
    "import psycopg2"
   ]
  },
  {
   "cell_type": "code",
   "execution_count": 2,
   "metadata": {
    "collapsed": true
   },
   "outputs": [],
   "source": [
    "# Connect to the postgres server linked to the container this notebook is running in\n",
    "connection = psycopg2.connect(\"host=postgres dbname=wisdom user=postgres\")"
   ]
  },
  {
   "cell_type": "code",
   "execution_count": 3,
   "metadata": {},
   "outputs": [
    {
     "name": "stdout",
     "output_type": "stream",
     "text": [
      "Found variants for 250 patients\n",
      "['MSH2', 'BRCA1', 'BRCA2', 'BRCA1', 'PTEN', 'PTEN', 'ATM', 'BRCA2', 'ATM', 'MSH2', 'ATM', 'MSH6', 'BRCA1', 'PTEN', 'ATM', 'CDH1', 'PMS2', 'BRCA1', 'MLH1', 'ATM', 'PALB2', 'BRCA1', 'BRCA2', 'BRCA1', 'ATM', 'PALB2', 'PTEN', 'PALB2', 'CDH1', 'BRCA1', 'BRCA2', 'PMS2', 'BRCA1', 'ATM', 'BRCA1', 'ATM', 'PTEN', 'ATM', 'MSH6', 'CDH1', 'PMS2', 'ATM', 'ATM', 'BRIP1', 'BRCA1', 'BRCA1', 'PMS2', 'BRCA2', 'BRCA1', 'PALB2', 'BRCA1', 'ATM', 'MLH1', 'ATM', 'MSH6', 'MLH1', 'ATM', 'BRCA1', 'PALB2', 'ATM', 'ATM', 'BRCA1', 'PMS2', 'PALB2', 'PMS2', 'BRCA1', 'PALB2', 'ATM', 'MLH1', 'ATM', 'PTEN', 'BRCA1', 'BRCA1', 'MSH6', 'PTEN', 'BRCA2', 'BRCA1', 'PTEN', 'MSH6', 'ATM', 'ATM', 'MSH2', 'PALB2', 'MLH1', 'MLH1', 'PALB2', 'BRCA1', 'ATM', 'BRCA2', 'BRCA2', 'ATM', 'PMS2', 'PALB2', 'ATM', 'PALB2', 'BRCA1', 'BRIP1', 'BRCA2', 'BRCA2', 'ATM', 'ATM', 'BRCA2', 'ATM', 'BRCA1', 'PTEN', 'MLH1', 'ATM', 'CDH1', 'BRCA1', 'BRCA1', 'ATM', 'BRIP1', 'MSH2', 'MSH6', 'BRCA1', 'BRCA1', 'BRCA1', 'PTEN', 'BRIP1', 'PMS2', 'PTEN', 'ATM', 'BRCA1', 'BRIP1', 'BRCA2', 'BRCA2', 'BRCA1', 'BRCA1', 'ATM', 'MLH1', 'BRCA1', 'BRCA1', 'BRCA1', 'BRCA1', 'ATM', 'BRCA1', 'ATM', 'BRCA2', 'BRCA2', 'ATM', 'PMS2', 'ATM', 'PMS2', 'MSH2', 'MSH6', 'BRCA2', 'PTEN', 'BRCA1', 'BRCA1', 'PALB2', 'BRCA1', 'MSH6', 'PALB2', 'MSH6', 'BRCA1', 'PALB2', 'BRCA1', 'BRCA1', 'CDH1', 'ATM', 'MLH1', 'ATM', 'ATM', 'CDH1', 'CDH1', 'ATM', 'PMS2', 'MSH6', 'BRCA1', 'MLH1', 'PALB2', 'ATM', 'BRCA1', 'BRCA1', 'ATM', 'PALB2', 'ATM', 'PALB2', 'ATM', 'MSH2', 'PTEN', 'ATM', 'BRCA1', 'BRCA2', 'ATM', 'BRCA1', 'CDH1', 'PALB2', 'MLH1', 'ATM', 'PALB2', 'PALB2', 'BRCA2', 'BRCA1', 'MSH2', 'BRCA2', 'MSH6', 'ATM', 'ATM', 'ATM', 'ATM', 'ATM', 'BRIP1', 'BRCA1', 'CDH1', 'BRCA2', 'ATM', 'CDH1', 'PMS2', 'MSH2', 'ATM', 'MLH1', 'PALB2', 'BRCA2', 'BRCA2', 'ATM', 'BRCA1', 'BRCA1', 'ATM', 'CDH1', 'ATM', 'PMS2', 'PTEN', 'PALB2', 'PALB2', 'BRCA1', 'BRIP1', 'BRCA1', 'ATM', 'BRCA2', 'BRCA1', 'BRCA1', 'MSH6', 'ATM', 'BRCA1', 'ATM', 'PMS2', 'MSH6', 'MSH2', 'MLH1', 'MSH2', 'BRCA2', 'PMS2', 'CDH1', 'BRIP1', 'BRCA2', 'BRIP1', 'PALB2', 'CDH1', 'MSH6']\n"
     ]
    }
   ],
   "source": [
    "# Query the first variant from every report and print its gene\n",
    "with connection.cursor() as cursor:\n",
    "    cursor.execute(\"select report->'variants'->1 from reports\")\n",
    "    variants = cursor.fetchall()\n",
    "    print(\"Found variants for\", len(variants), \"patients\")\n",
    "    print([v[0][\"gene\"] for v in variants])"
   ]
  },
  {
   "cell_type": "code",
   "execution_count": null,
   "metadata": {
    "collapsed": true
   },
   "outputs": [],
   "source": []
  }
 ],
 "metadata": {
  "kernelspec": {
   "display_name": "Python 3",
   "language": "python",
   "name": "python3"
  },
  "language_info": {
   "codemirror_mode": {
    "name": "ipython",
    "version": 3
   },
   "file_extension": ".py",
   "mimetype": "text/x-python",
   "name": "python",
   "nbconvert_exporter": "python",
   "pygments_lexer": "ipython3",
   "version": "3.5.2"
  }
 },
 "nbformat": 4,
 "nbformat_minor": 2
}
