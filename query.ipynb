{
 "cells": [
  {
   "cell_type": "code",
   "execution_count": 1,
   "metadata": {
    "collapsed": true
   },
   "outputs": [],
   "source": [
    "import json\n",
    "\n",
    "!pip install -q psycopg2\n",
    "import psycopg2"
   ]
  },
  {
   "cell_type": "code",
   "execution_count": 3,
   "metadata": {
    "collapsed": true
   },
   "outputs": [],
   "source": [
    "# Connect to the postgres server linked to the container this notebook is running in\n",
    "connection = psycopg2.connect(\"host=postgres dbname=wisdom user=postgres\")"
   ]
  },
  {
   "cell_type": "code",
   "execution_count": 13,
   "metadata": {},
   "outputs": [
    {
     "name": "stdout",
     "output_type": "stream",
     "text": [
      "Found variants for 250 patients\n",
      "['PALB2', 'ATM', 'BRCA1', 'ATM', 'ATM', 'BRCA1', 'PTEN', 'BRCA1', 'BRIP1', 'ATM', 'BRIP1', 'MSH6', 'ATM', 'BRCA1', 'BRCA2', 'MLH1', 'CDH1', 'BRCA1', 'MSH6', 'CDH1', 'ATM', 'ATM', 'ATM', 'ATM', 'BRCA1', 'PALB2', 'BRCA1', 'BRCA2', 'BRCA2', 'PTEN', 'ATM', 'BRIP1', 'MSH6', 'BRCA1', 'ATM', 'PTEN', 'PTEN', 'CDH1', 'PMS2', 'BRCA1', 'ATM', 'PMS2', 'CDH1', 'MLH1', 'BRCA1', 'MSH2', 'PTEN', 'ATM', 'BRCA1', 'ATM', 'BRCA2', 'BRCA1', 'BRIP1', 'MSH6', 'PALB2', 'CDH1', 'BRCA1', 'BRCA1', 'BRIP1', 'BRCA1', 'BRCA2', 'ATM', 'BRIP1', 'BRCA2', 'BRIP1', 'ATM', 'MSH2', 'BRCA2', 'BRCA1', 'MSH6', 'ATM', 'MSH6', 'PTEN', 'PALB2', 'PALB2', 'BRCA2', 'MSH2', 'BRCA2', 'BRCA1', 'CDH1', 'ATM', 'BRIP1', 'BRCA1', 'PTEN', 'BRCA2', 'BRCA1', 'BRCA2', 'BRIP1', 'BRCA1', 'PALB2', 'BRCA1', 'MLH1', 'ATM', 'ATM', 'PTEN', 'PMS2', 'ATM', 'PALB2', 'PALB2', 'ATM', 'ATM', 'BRCA1', 'ATM', 'ATM', 'ATM', 'PMS2', 'ATM', 'MLH1', 'PMS2', 'PALB2', 'BRCA2', 'PALB2', 'ATM', 'PTEN', 'BRCA1', 'ATM', 'ATM', 'ATM', 'PALB2', 'ATM', 'PMS2', 'MLH1', 'MSH6', 'BRIP1', 'ATM', 'BRCA2', 'ATM', 'BRCA1', 'MSH6', 'BRCA1', 'ATM', 'BRCA1', 'ATM', 'PMS2', 'BRCA1', 'MSH6', 'PTEN', 'MSH2', 'BRCA1', 'BRIP1', 'ATM', 'ATM', 'BRCA1', 'MLH1', 'BRCA1', 'ATM', 'BRCA1', 'MLH1', 'ATM', 'BRCA1', 'ATM', 'PTEN', 'ATM', 'BRIP1', 'BRCA1', 'BRCA1', 'ATM', 'MLH1', 'PALB2', 'BRIP1', 'ATM', 'ATM', 'BRCA2', 'PALB2', 'PMS2', 'MLH1', 'MSH2', 'BRCA1', 'PMS2', 'ATM', 'ATM', 'BRCA1', 'BRCA2', 'PMS2', 'CDH1', 'ATM', 'PTEN', 'MSH6', 'BRCA2', 'BRCA1', 'ATM', 'BRCA1', 'MLH1', 'ATM', 'PTEN', 'BRCA1', 'PALB2', 'PALB2', 'ATM', 'ATM', 'PALB2', 'BRCA1', 'BRCA1', 'CDH1', 'BRIP1', 'CDH1', 'BRCA1', 'BRCA2', 'ATM', 'ATM', 'ATM', 'BRCA2', 'ATM', 'PMS2', 'PTEN', 'MSH2', 'ATM', 'ATM', 'ATM', 'ATM', 'BRCA1', 'PALB2', 'ATM', 'BRCA1', 'ATM', 'MSH6', 'BRCA2', 'ATM', 'BRCA1', 'BRCA1', 'ATM', 'MLH1', 'ATM', 'BRCA1', 'MSH2', 'BRCA2', 'BRCA2', 'PTEN', 'MSH2', 'BRCA2', 'BRCA1', 'MLH1', 'MLH1', 'ATM', 'PALB2', 'ATM', 'MLH1', 'PALB2', 'ATM', 'BRIP1', 'ATM', 'BRCA1', 'BRCA2', 'ATM', 'ATM', 'MSH2', 'BRCA1', 'ATM', 'MLH1', 'BRCA2']\n"
     ]
    }
   ],
   "source": [
    "# Query the first variant from every report and print its gene\n",
    "with connection.cursor() as cursor:\n",
    "    cursor.execute(\"select report->'variants'->1 from reports\")\n",
    "    variants = cursor.fetchall()\n",
    "    print(\"Found variants for\", len(variants), \"patients\")\n",
    "    print([v[0][\"gene\"] for v in variants])"
   ]
  },
  {
   "cell_type": "code",
   "execution_count": null,
   "metadata": {
    "collapsed": true
   },
   "outputs": [],
   "source": []
  }
 ],
 "metadata": {
  "kernelspec": {
   "display_name": "Python 3",
   "language": "python",
   "name": "python3"
  },
  "language_info": {
   "codemirror_mode": {
    "name": "ipython",
    "version": 3
   },
   "file_extension": ".py",
   "mimetype": "text/x-python",
   "name": "python",
   "nbconvert_exporter": "python",
   "pygments_lexer": "ipython3",
   "version": "3.5.2"
  }
 },
 "nbformat": 4,
 "nbformat_minor": 2
}
