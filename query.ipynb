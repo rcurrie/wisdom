{
 "cells": [
  {
   "cell_type": "markdown",
   "metadata": {},
   "source": [
    "### Sample SQL Queries\n",
    "\n",
    "A variety of differrent queries from python using mostly sql, sql and python, and pandas.\n",
    "\n",
    "Salt to taste."
   ]
  },
  {
   "cell_type": "code",
   "execution_count": 5,
   "metadata": {
    "collapsed": true
   },
   "outputs": [],
   "source": [
    "import json\n",
    "from contextlib import closing\n",
    "import psycopg2\n",
    "import psycopg2.extras\n",
    "import pandas as pd\n",
    "\n",
    "conn_string = \"host=postgres dbname=wisdom  user=postgres\""
   ]
  },
  {
   "cell_type": "code",
   "execution_count": 6,
   "metadata": {},
   "outputs": [
    {
     "data": {
      "text/html": [
       "<div>\n",
       "<table border=\"1\" class=\"dataframe\">\n",
       "  <thead>\n",
       "    <tr style=\"text-align: right;\">\n",
       "      <th></th>\n",
       "      <th>sign</th>\n",
       "      <th>count</th>\n",
       "    </tr>\n",
       "  </thead>\n",
       "  <tbody>\n",
       "    <tr>\n",
       "      <th>0</th>\n",
       "      <td>Capricorn</td>\n",
       "      <td>48</td>\n",
       "    </tr>\n",
       "    <tr>\n",
       "      <th>1</th>\n",
       "      <td>Virgo</td>\n",
       "      <td>24</td>\n",
       "    </tr>\n",
       "    <tr>\n",
       "      <th>2</th>\n",
       "      <td>Taurus</td>\n",
       "      <td>19</td>\n",
       "    </tr>\n",
       "    <tr>\n",
       "      <th>3</th>\n",
       "      <td>Scorpio</td>\n",
       "      <td>12</td>\n",
       "    </tr>\n",
       "    <tr>\n",
       "      <th>4</th>\n",
       "      <td>Gemini</td>\n",
       "      <td>12</td>\n",
       "    </tr>\n",
       "    <tr>\n",
       "      <th>5</th>\n",
       "      <td>Sagittarius</td>\n",
       "      <td>17</td>\n",
       "    </tr>\n",
       "    <tr>\n",
       "      <th>6</th>\n",
       "      <td>Leo</td>\n",
       "      <td>13</td>\n",
       "    </tr>\n",
       "    <tr>\n",
       "      <th>7</th>\n",
       "      <td>Libra</td>\n",
       "      <td>23</td>\n",
       "    </tr>\n",
       "    <tr>\n",
       "      <th>8</th>\n",
       "      <td>Cancer</td>\n",
       "      <td>25</td>\n",
       "    </tr>\n",
       "    <tr>\n",
       "      <th>9</th>\n",
       "      <td>Aries</td>\n",
       "      <td>21</td>\n",
       "    </tr>\n",
       "    <tr>\n",
       "      <th>10</th>\n",
       "      <td>Pisces</td>\n",
       "      <td>23</td>\n",
       "    </tr>\n",
       "    <tr>\n",
       "      <th>11</th>\n",
       "      <td>Aquarius</td>\n",
       "      <td>13</td>\n",
       "    </tr>\n",
       "  </tbody>\n",
       "</table>\n",
       "</div>"
      ],
      "text/plain": [
       "           sign  count\n",
       "0     Capricorn     48\n",
       "1         Virgo     24\n",
       "2        Taurus     19\n",
       "3       Scorpio     12\n",
       "4        Gemini     12\n",
       "5   Sagittarius     17\n",
       "6           Leo     13\n",
       "7         Libra     23\n",
       "8        Cancer     25\n",
       "9         Aries     21\n",
       "10       Pisces     23\n",
       "11     Aquarius     13"
      ]
     },
     "execution_count": 6,
     "metadata": {},
     "output_type": "execute_result"
    }
   ],
   "source": [
    "# Query directly into a pandas dataframe a summary of sign counts\n",
    "with closing(psycopg2.connect(conn_string)) as connection:\n",
    "    dataframe = pd.io.sql.read_sql(\"select patients.sign, count(id) from patients group by patients.sign\", connection)\n",
    "dataframe"
   ]
  },
  {
   "cell_type": "code",
   "execution_count": 13,
   "metadata": {},
   "outputs": [
    {
     "name": "stdout",
     "output_type": "stream",
     "text": [
      "Found 2 Libras between 21 and 40 with BRCA1 and PTEN\n",
      "8a80681d-60f5-4baf-96ce-7d04aa2f505f ['PTEN', 'PALB2', 'BRIP1', 'ATM', 'MSH2', 'ATM', 'BRCA1', 'ATM']\n",
      "64174e50-987d-4a29-9122-bc8b0c1931b9 ['ATM', 'PTEN', 'PALB2', 'PALB2', 'MLH1', 'BRCA1', 'MSH6', 'ATM']\n"
     ]
    }
   ],
   "source": [
    "# All Libras between 21 and 40 with BRCA1 and PTEN using postgres jsonb extensions\n",
    "with closing(psycopg2.connect(conn_string)) as connection, \\\n",
    "    closing(connection.cursor(cursor_factory=psycopg2.extras.DictCursor)) as cursor:\n",
    "\n",
    "    cursor.execute(\"\"\"\n",
    "        select patients.*, report->'variants' as variants\n",
    "        from patients\n",
    "        left join reports on (patients.id = reports.patient_id)\n",
    "        where patients.sign='Libra' and patients.age >= 21 and patients.age <= 40\n",
    "        and report @> '{ \"variants\": [{ \"gene\": \"BRCA1\" }] }' and report @> '{ \"variants\": [{ \"gene\": \"PTEN\" }] }'\n",
    "        \"\"\")\n",
    "    \n",
    "    print(\"Found\", cursor.rowcount, \"Libras between 21 and 40 with BRCA1 and PTEN\")\n",
    "    for patient in cursor:\n",
    "        print(patient[\"id\"], [v[\"gene\"] for v in patient[\"variants\"]])"
   ]
  },
  {
   "cell_type": "code",
   "execution_count": 4,
   "metadata": {},
   "outputs": [
    {
     "name": "stdout",
     "output_type": "stream",
     "text": [
      "Found 5 Libra's between 21 and 40\n",
      "Those with both BRCA1 and PTEN:\n",
      "8a80681d-60f5-4baf-96ce-7d04aa2f505f ['PTEN', 'PALB2', 'BRIP1', 'ATM', 'MSH2', 'ATM', 'BRCA1', 'ATM']\n",
      "64174e50-987d-4a29-9122-bc8b0c1931b9 ['ATM', 'PTEN', 'PALB2', 'PALB2', 'MLH1', 'BRCA1', 'MSH6', 'ATM']\n"
     ]
    }
   ],
   "source": [
    "# All Libras between 21 and 40 with BRCA1 and PTEN using multiple simpler queries and python\n",
    "with closing(psycopg2.connect(conn_string)) as connection, \\\n",
    "    closing(connection.cursor(cursor_factory=psycopg2.extras.DictCursor)) as cursor:\n",
    "    \n",
    "    # First get all the patients that are Libra and between 21 and 40\n",
    "    cursor.execute(\"select * from patients where sign='Libra' and age >= 21 and age <= 40\")\n",
    "    patients = cursor.fetchall()\n",
    "    print(\"Found\", len(patients), \"Libra's between 21 and 40\")\n",
    "    \n",
    "    # And then get their variant report and print only if it includes BRCA1and PTEN\n",
    "    print(\"Those with both BRCA1 and PTEN:\")\n",
    "    for patient in patients:\n",
    "        cursor.execute(\"select report->'variants' from reports where reports.patient_id='{}'\".format(patient[\"id\"]))\n",
    "        variants = cursor.fetchall()\n",
    "        genes = [v[\"gene\"] for v in variants[0][0]]\n",
    "        if 'BRCA1' in genes and 'PTEN' in genes:\n",
    "            print(patient[\"id\"], genes)"
   ]
  }
 ],
 "metadata": {
  "kernelspec": {
   "display_name": "Python 3",
   "language": "python",
   "name": "python3"
  },
  "language_info": {
   "codemirror_mode": {
    "name": "ipython",
    "version": 3
   },
   "file_extension": ".py",
   "mimetype": "text/x-python",
   "name": "python",
   "nbconvert_exporter": "python",
   "pygments_lexer": "ipython3",
   "version": "3.5.2"
  }
 },
 "nbformat": 4,
 "nbformat_minor": 2
}
